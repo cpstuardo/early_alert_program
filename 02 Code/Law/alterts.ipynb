{
 "cells": [
  {
   "cell_type": "markdown",
   "id": "3b143549",
   "metadata": {},
   "source": [
    "# Alerts generator"
   ]
  },
  {
   "cell_type": "markdown",
   "id": "21684be3",
   "metadata": {},
   "source": [
    "#### Liberías"
   ]
  },
  {
   "cell_type": "code",
   "execution_count": 1,
   "id": "799f5200",
   "metadata": {},
   "outputs": [],
   "source": [
    "import csv\n",
    "import pandas as pd\n",
    "import numpy as np"
   ]
  },
  {
   "cell_type": "markdown",
   "id": "8a509100",
   "metadata": {},
   "source": [
    "#### Dataframes"
   ]
  },
  {
   "cell_type": "code",
   "execution_count": 2,
   "id": "69495f3a",
   "metadata": {},
   "outputs": [],
   "source": [
    "vigentes = pd.read_excel('../../01 Data/02 Dataset_100/semester_vig_law.xlsx').groupby('RUT')\n",
    "no_vigentes = pd.read_excel('../../01 Data/02 Dataset_100/semester_novig_law.xlsx').groupby('RUT')"
   ]
  },
  {
   "cell_type": "code",
   "execution_count": 3,
   "id": "ddd35f57",
   "metadata": {},
   "outputs": [],
   "source": [
    "cursos = pd.read_excel('../../01 Data/02 Dataset_100/courses_vig_novig_law.xlsx').groupby('RUT')"
   ]
  },
  {
   "cell_type": "markdown",
   "id": "202855d0",
   "metadata": {},
   "source": [
    "#### Problar diccionario estudiantes"
   ]
  },
  {
   "cell_type": "code",
   "execution_count": 4,
   "id": "625c3c4f",
   "metadata": {},
   "outputs": [],
   "source": [
    "def num_sem(periodo_admision, periodo):\n",
    "    año_admision = str(periodo_admision)[:4]\n",
    "    año_periodo = str(periodo)[:4]\n",
    "    sem_admision = str(periodo_admision)[-1]\n",
    "    sem_periodo = str(periodo)[-1]\n",
    "    dif_base = (int(año_periodo) - int(año_admision)) * 2\n",
    "    if sem_admision == sem_periodo:\n",
    "        dif_base += 1\n",
    "    elif (sem_admision == '0') & (sem_periodo == '2'):\n",
    "        dif_base += 2\n",
    "    return dif_base   "
   ]
  },
  {
   "cell_type": "code",
   "execution_count": 5,
   "id": "9992b92f",
   "metadata": {},
   "outputs": [],
   "source": [
    "# Vigentes\n",
    "vig = {}\n",
    "\n",
    "for estudiante_vig in vigentes:\n",
    "    rut = estudiante_vig[0]\n",
    "    vig[rut] = {}\n",
    "    info = estudiante_vig[1]\n",
    "    for i in info.index: #por semestre del estudiante\n",
    "        num_semestre = num_sem(info['PERIODO ADMISIÓN'][i], info['PERIODO ACADÉMICO'][i])\n",
    "        vig[rut][num_semestre] = {}\n",
    "        vig[rut][num_semestre]['PERIODO ACADEMICO'] = info['PERIODO ACADÉMICO'][i]\n",
    "        vig[rut][num_semestre]['SITUACION ACADEMICA'] = info['SITUACIÓN ACADÉMICA POR SEM'][i]\n",
    "        vig[rut][num_semestre]['PPS'] = info['PPS'][i]\n",
    "        vig[rut][num_semestre]['PPA'] = info['PPA'][i]\n",
    "        vig[rut][num_semestre]['CREDITOS INSCRITOS'] = info['CRED INSCR PER'][i]\n",
    "        vig[rut][num_semestre]['CREDITOS APROBADOS'] = info['CRED APROB PER'][i]\n",
    "        vig[rut][num_semestre]['CREDITOS REPROBADOS'] = info['CRED REPRO PER'][i]\n",
    "        vig[rut][num_semestre]['CREDITOS INSCRITOS ACUMULADOS'] = info['CRED INSCR ACUM'][i]\n",
    "        vig[rut][num_semestre]['CREDITOS APROBADOS ACUMULADOS'] = info['CRED APROB ACUM'][i]\n",
    "        vig[rut][num_semestre]['CREDITOS REPROBADOS ACUMULADOS'] = info['CRED REPRO ACUM'][i]      \n",
    "        \n",
    "for rut in vig.keys():\n",
    "    num_semestre_cursado = 0\n",
    "    for i in range(30):\n",
    "        if i in vig[rut].keys():\n",
    "            if vig[rut][i]['SITUACION ACADEMICA'] == 'INPROGRESS - En progreso':\n",
    "                num_semestre_cursado += 1\n",
    "                vig[rut][i]['NUM SEM CURSADO'] = num_semestre_cursado\n",
    "            else:\n",
    "                vig[rut][i]['NUM SEM CURSADO'] = 0 # si suspendió/anuló no tiene número de semestre cursado  \n",
    "                "
   ]
  },
  {
   "cell_type": "code",
   "execution_count": 6,
   "id": "80816614",
   "metadata": {},
   "outputs": [],
   "source": [
    "# No Vigentes\n",
    "novig = {}\n",
    "for estudiante_novig in no_vigentes:\n",
    "    rut = estudiante_novig[0]\n",
    "    novig[rut] = {}\n",
    "    info = estudiante_novig[1]\n",
    "    num_semestre = len(info.index)\n",
    "    for i in info.index: #por semestre del estudiante\n",
    "        num_semestre = num_sem(info['PERIODO ADMISIÓN'][i], info['PERIODO ACADÉMICO'][i])\n",
    "        novig[rut][num_semestre] = {}\n",
    "        novig[rut][num_semestre]['PERIODO ACADEMICO'] = info['PERIODO ACADÉMICO'][i]\n",
    "        novig[rut][num_semestre]['SITUACION ACADEMICA'] = info['SITUACIÓN ACADÉMICA POR SEM'][i]\n",
    "        novig[rut][num_semestre]['PPS'] = info['PPS'][i]\n",
    "        novig[rut][num_semestre]['PPA'] = info['PPA'][i]\n",
    "        novig[rut][num_semestre]['CREDITOS INSCRITOS'] = info['CRED INSCR PER'][i]\n",
    "        novig[rut][num_semestre]['CREDITOS APROBADOS'] = info['CRED APROB PER'][i]\n",
    "        novig[rut][num_semestre]['CREDITOS REPROBADOS'] = info['CRED REPRO PER'][i]\n",
    "        novig[rut][num_semestre]['CREDITOS INSCRITOS ACUMULADOS'] = info['CRED INSCR ACUM'][i]\n",
    "        novig[rut][num_semestre]['CREDITOS APROBADOS ACUMULADOS'] = info['CRED APROB ACUM'][i]\n",
    "        novig[rut][num_semestre]['CREDITOS REPROBADOS ACUMULADOS'] = info['CRED REPRO ACUM'][i]      \n",
    "        \n",
    "for rut in novig.keys():\n",
    "    num_semestre_cursado = 0\n",
    "    for i in range(30):\n",
    "        if i in novig[rut].keys():\n",
    "            if novig[rut][i]['SITUACION ACADEMICA'] == 'INPROGRESS - En progreso':\n",
    "                num_semestre_cursado += 1\n",
    "                novig[rut][i]['NUM SEM CURSADO'] = num_semestre_cursado\n",
    "            else:\n",
    "                novig[rut][i]['NUM SEM CURSADO'] = 0 # si suspendió/anuló no tiene número de semestre cursado  \n",
    "                "
   ]
  },
  {
   "cell_type": "markdown",
   "id": "adfd5c1d",
   "metadata": {},
   "source": [
    "#### Poblar diccionario de cursos reprobados del estudiantes"
   ]
  },
  {
   "cell_type": "code",
   "execution_count": 7,
   "id": "fe9c6e00",
   "metadata": {},
   "outputs": [],
   "source": [
    "def periodo_academico_siguiente(periodo):\n",
    "    if str(periodo)[-1] == '2':\n",
    "        prox_periodo = periodo + 100 - 2\n",
    "    elif str(periodo)[-1] == '0':\n",
    "        prox_periodo = periodo + 2\n",
    "    elif str(periodo)[-1] == '4':\n",
    "        prox_periodo = periodo + 100 - 4\n",
    "    return prox_periodo"
   ]
  },
  {
   "cell_type": "code",
   "execution_count": 8,
   "id": "82626fa4",
   "metadata": {},
   "outputs": [],
   "source": [
    "def obtener_num_sem(rut, num_sem_cursado):\n",
    "    num_semestre = 0\n",
    "    if rut in vig.keys():\n",
    "        estudiantes = vig\n",
    "    elif rut in novig.keys():\n",
    "        estudiantes = novig\n",
    "    for semestre in estudiantes[rut].keys():\n",
    "        if estudiantes[rut][semestre]['NUM SEM CURSADO'] == num_sem_cursado:\n",
    "            num_semestre = semestre\n",
    "    return num_semestre"
   ]
  },
  {
   "cell_type": "code",
   "execution_count": 9,
   "id": "91e7c0ca",
   "metadata": {},
   "outputs": [],
   "source": [
    "def obtener_num_sem_cursados(rut, periodo):\n",
    "    num_sem_cursados = 0\n",
    "    if str(periodo)[-1] == '4':\n",
    "        periodo -= 2\n",
    "    if rut in vig.keys():\n",
    "        estudiantes = vig\n",
    "    elif rut in novig.keys():\n",
    "        estudiantes = novig\n",
    "    for semestre in estudiantes[rut].keys():\n",
    "        if estudiantes[rut][semestre]['PERIODO ACADEMICO'] == periodo:\n",
    "            num_sem_cursados = estudiantes[rut][semestre]['NUM SEM CURSADO']\n",
    "            break\n",
    "    return num_sem_cursados"
   ]
  },
  {
   "cell_type": "code",
   "execution_count": 10,
   "id": "37181432",
   "metadata": {},
   "outputs": [],
   "source": [
    "estudiantes_cursos_rep = {}\n",
    "for estudiante in cursos:\n",
    "    rut = estudiante[0]\n",
    "    estudiantes_cursos_rep[rut] = {}\n",
    "    for periodo in estudiante[1].groupby('PERIODO'):\n",
    "        for i in periodo[1].index:\n",
    "            if not (periodo[1]['CALIF'][i] in ['A', 'R', 'P', 'C']) and not(pd.isnull(periodo[1]['CALIF'][i])):\n",
    "                if float(periodo[1]['CALIF'][i]) < 4.0:\n",
    "                    sigla_curso = periodo[1]['MATERIA'][i] + str(periodo[1]['CURSO'][i])\n",
    "                    if not (sigla_curso in estudiantes_cursos_rep[rut].keys()):\n",
    "                        estudiantes_cursos_rep[rut][sigla_curso] = 0\n",
    "                    estudiantes_cursos_rep[rut][sigla_curso] += 1\n",
    "                    num_sem_cursados = obtener_num_sem_cursados(rut, periodo[0])\n",
    "                    # ALERTA 28f\n",
    "                    if estudiantes_cursos_rep[rut][sigla_curso] >= 3: # Si lo reprobó 3 veces o más\n",
    "                        periodo_alerta = periodo_academico_siguiente(periodo[0])\n",
    "                        if not ('alerta_28f' in estudiantes_cursos_rep[rut].keys()):\n",
    "                            estudiantes_cursos_rep[rut]['alerta_28f'] = []\n",
    "                        if not (periodo_alerta, obtener_num_sem(rut, num_sem_cursados)) in estudiantes_cursos_rep[rut]['alerta_28f']:\n",
    "                            estudiantes_cursos_rep[rut]['alerta_28f'].append((periodo_alerta, obtener_num_sem(rut, num_sem_cursados))) #periodo en que recibe la alerta y número de periodos en la carrera\n",
    "                    \n",
    "                    # ALERTA 28g\n",
    "                    if estudiantes_cursos_rep[rut][sigla_curso] >= 2: # Si lo reprobó dos veces o más\n",
    "                        if num_sem_cursados > 2: # Si está en un semestre posterior al segundo\n",
    "                            # Si el curso es específico de UA\n",
    "                            if sigla_curso in ['DER001C', 'DER001F', 'DER001L', 'DER001P', 'DER001R', 'DER002C', 'DER002F', 'DER002P', 'DER002R', 'DER003C', 'DER003F', 'DER003L', 'DER004C', 'DER004F', 'DER005F', 'DER005R', 'DER006F', 'DER008C', 'DER009F']: \n",
    "                                periodo_alerta = periodo_academico_siguiente(periodo[0])\n",
    "                                if not ('alerta_28g' in estudiantes_cursos_rep[rut].keys()):\n",
    "                                    estudiantes_cursos_rep[rut]['alerta_28g'] = []\n",
    "                                if not (periodo_alerta, obtener_num_sem(rut, num_sem_cursados)) in estudiantes_cursos_rep[rut]['alerta_28g']:\n",
    "                                    estudiantes_cursos_rep[rut]['alerta_28g'].append((periodo_alerta, obtener_num_sem(rut, num_sem_cursados))) #periodo en que recibe la alerta y número de periodos en la carrera           "
   ]
  },
  {
   "cell_type": "markdown",
   "id": "3f02e64f",
   "metadata": {},
   "source": [
    "#### Simulación alertas"
   ]
  },
  {
   "cell_type": "code",
   "execution_count": 11,
   "id": "040060ac",
   "metadata": {},
   "outputs": [],
   "source": [
    "alertas = {}\n",
    "\n",
    "# Vigentes\n",
    "estudiantes = vig\n",
    "\n",
    "# 28a\n",
    "for rut in estudiantes.keys():\n",
    "    primer_semestre = obtener_num_sem(rut, 1)\n",
    "    if primer_semestre != 0:\n",
    "        if estudiantes[rut][primer_semestre]['PPA'] < 4.0:\n",
    "            prox_periodo = periodo_academico_siguiente(estudiantes[rut][primer_semestre]['PERIODO ACADEMICO'])\n",
    "            if not (prox_periodo in alertas.keys()):\n",
    "                alertas[prox_periodo] = []\n",
    "            alertas[prox_periodo].append(['28a', rut, primer_semestre]) #[tipo alerta, rut, num periodos en la carrera]\n",
    "\n",
    "# 28b\n",
    "for rut in estudiantes.keys():\n",
    "    primer_semestre = obtener_num_sem(rut, 1)\n",
    "    if primer_semestre != 0:\n",
    "        porcentaje_creditos_aprobados = estudiantes[rut][primer_semestre]['CREDITOS APROBADOS']/estudiantes[rut][primer_semestre]['CREDITOS INSCRITOS']\n",
    "        if porcentaje_creditos_aprobados < 0.5:\n",
    "            prox_periodo = periodo_academico_siguiente(estudiantes[rut][primer_semestre]['PERIODO ACADEMICO'])\n",
    "            if not (prox_periodo in alertas.keys()):\n",
    "                alertas[prox_periodo] = []\n",
    "            alertas[prox_periodo].append(['28b', rut, primer_semestre]) #[tipo alerta, rut, num periodos en la carrera]\n",
    "\n",
    "# 28c\n",
    "for rut in estudiantes.keys():\n",
    "    segundo_semestre = obtener_num_sem(rut, 2)\n",
    "    if segundo_semestre != 0:\n",
    "        if estudiantes[rut][segundo_semestre]['PPA'] < 4.0:\n",
    "            prox_periodo = periodo_academico_siguiente(estudiantes[rut][segundo_semestre]['PERIODO ACADEMICO'])\n",
    "            if not (prox_periodo in alertas.keys()):\n",
    "                alertas[prox_periodo] = []\n",
    "            alertas[prox_periodo].append(['28c', rut, segundo_semestre]) #[tipo alerta, rut, num periodos en la carrera]\n",
    "# 28d\n",
    "for rut in estudiantes.keys():\n",
    "    segundo_semestre = obtener_num_sem(rut, 2)\n",
    "    if segundo_semestre != 0:\n",
    "        creditos_aprobados_acumulados= estudiantes[rut][segundo_semestre]['CREDITOS APROBADOS ACUMULADOS']\n",
    "        creditos_inscritos_acumulados= estudiantes[rut][segundo_semestre]['CREDITOS INSCRITOS ACUMULADOS']\n",
    "        porcentaje_creditos_aprobados = creditos_aprobados_acumulados/ creditos_inscritos_acumulados\n",
    "        if estudiantes[rut][segundo_semestre]['PPA'] < 4.5 and porcentaje_creditos_aprobados < 0.4:\n",
    "            prox_periodo = periodo_academico_siguiente(estudiantes[rut][segundo_semestre]['PERIODO ACADEMICO'])\n",
    "            if not (prox_periodo in alertas.keys()):\n",
    "                alertas[prox_periodo] = []\n",
    "            alertas[prox_periodo].append(['28d', rut, segundo_semestre]) #[tipo alerta, rut, num periodos en la carrera]\n",
    "                \n",
    "# 28e\n",
    "for rut in estudiantes.keys():\n",
    "    for i in range(3,40):\n",
    "        semestre = obtener_num_sem(rut, i)\n",
    "        if semestre != 0:\n",
    "            if estudiantes[rut][semestre]['PPA'] < 4.0:\n",
    "                prox_periodo = periodo_academico_siguiente(estudiantes[rut][semestre]['PERIODO ACADEMICO'])\n",
    "                if not (prox_periodo in alertas.keys()):\n",
    "                    alertas[prox_periodo] = []\n",
    "                alertas[prox_periodo].append(['28e', rut, semestre]) #[tipo alerta, rut, num periodos en la carrera]"
   ]
  },
  {
   "cell_type": "code",
   "execution_count": 12,
   "id": "c0125387",
   "metadata": {},
   "outputs": [],
   "source": [
    "# No Vigentes\n",
    "estudiantes = novig\n",
    "\n",
    "# 28a\n",
    "for rut in estudiantes.keys():\n",
    "    primer_semestre = obtener_num_sem(rut, 1)\n",
    "    if primer_semestre != 0:\n",
    "        if estudiantes[rut][primer_semestre]['PPA'] < 4.0:\n",
    "            prox_periodo = periodo_academico_siguiente(estudiantes[rut][primer_semestre]['PERIODO ACADEMICO'])\n",
    "            if not (prox_periodo in alertas.keys()):\n",
    "                alertas[prox_periodo] = []\n",
    "            alertas[prox_periodo].append(['28a', rut, primer_semestre]) #[tipo alerta, rut, num periodos en la carrera]\n",
    "\n",
    "# 28b\n",
    "for rut in estudiantes.keys():\n",
    "    primer_semestre = obtener_num_sem(rut, 1)\n",
    "    if primer_semestre != 0:\n",
    "        porcentaje_creditos_aprobados = estudiantes[rut][primer_semestre]['CREDITOS APROBADOS']/estudiantes[rut][primer_semestre]['CREDITOS INSCRITOS']\n",
    "        if porcentaje_creditos_aprobados < 0.5:\n",
    "            prox_periodo = periodo_academico_siguiente(estudiantes[rut][primer_semestre]['PERIODO ACADEMICO'])\n",
    "            if not (prox_periodo in alertas.keys()):\n",
    "                alertas[prox_periodo] = []\n",
    "            alertas[prox_periodo].append(['28b', rut, primer_semestre]) #[tipo alerta, rut, num periodos en la carrera]\n",
    "\n",
    "# 28c\n",
    "for rut in estudiantes.keys():\n",
    "    segundo_semestre = obtener_num_sem(rut, 2)\n",
    "    if segundo_semestre != 0:\n",
    "        if estudiantes[rut][segundo_semestre]['PPA'] < 4.0:\n",
    "            prox_periodo = periodo_academico_siguiente(estudiantes[rut][segundo_semestre]['PERIODO ACADEMICO'])\n",
    "            if not (prox_periodo in alertas.keys()):\n",
    "                alertas[prox_periodo] = []\n",
    "            alertas[prox_periodo].append(['28c', rut, segundo_semestre]) #[tipo alerta, rut, num periodos en la carrera]\n",
    "# 28d\n",
    "for rut in estudiantes.keys():\n",
    "    segundo_semestre = obtener_num_sem(rut, 2)\n",
    "    if segundo_semestre != 0:\n",
    "        creditos_aprobados_acumulados= estudiantes[rut][segundo_semestre]['CREDITOS APROBADOS ACUMULADOS']\n",
    "        creditos_inscritos_acumulados= estudiantes[rut][segundo_semestre]['CREDITOS INSCRITOS ACUMULADOS']\n",
    "        porcentaje_creditos_aprobados = creditos_aprobados_acumulados/ creditos_inscritos_acumulados\n",
    "        if estudiantes[rut][segundo_semestre]['PPA'] < 4.5 and porcentaje_creditos_aprobados < 0.4:\n",
    "            prox_periodo = periodo_academico_siguiente(estudiantes[rut][segundo_semestre]['PERIODO ACADEMICO'])\n",
    "            if not (prox_periodo in alertas.keys()):\n",
    "                alertas[prox_periodo] = []\n",
    "            alertas[prox_periodo].append(['28d', rut, segundo_semestre]) #[tipo alerta, rut, num periodos en la carrera]\n",
    "                \n",
    "# 28e\n",
    "for rut in estudiantes.keys():\n",
    "    for i in range(3,40):\n",
    "        semestre = obtener_num_sem(rut, i)\n",
    "        if semestre != 0:\n",
    "            if estudiantes[rut][semestre]['PPA'] < 4.0:\n",
    "                prox_periodo = periodo_academico_siguiente(estudiantes[rut][semestre]['PERIODO ACADEMICO'])\n",
    "                if not (prox_periodo in alertas.keys()):\n",
    "                    alertas[prox_periodo] = []\n",
    "                alertas[prox_periodo].append(['28e', rut, semestre]) #[tipo alerta, rut, num periodos en la carrera]"
   ]
  },
  {
   "cell_type": "code",
   "execution_count": 13,
   "id": "70ee9669",
   "metadata": {},
   "outputs": [
    {
     "name": "stdout",
     "output_type": "stream",
     "text": [
      "Stored 'alertas_d' (dict)\n"
     ]
    }
   ],
   "source": [
    "# Vigentes y No Vigentes\n",
    "# 28f\n",
    "for rut in estudiantes_cursos_rep.keys():\n",
    "    if ('alerta_28f' in estudiantes_cursos_rep[rut].keys()):\n",
    "        for alerta_28f in estudiantes_cursos_rep[rut]['alerta_28f']:\n",
    "            if not (alerta_28f[0] in alertas.keys()):\n",
    "                    alertas[alerta_28f[0]] = []\n",
    "            alertas[alerta_28f[0]].append(['28f', rut, alerta_28f[1]])\n",
    "\n",
    "# 28g\n",
    "    if ('alerta_28g' in estudiantes_cursos_rep[rut].keys()):\n",
    "        for alerta_28g in estudiantes_cursos_rep[rut]['alerta_28g']:\n",
    "            if not (alerta_28g[0] in alertas.keys()):\n",
    "                    alertas[alerta_28g[0]] = []\n",
    "            alertas[alerta_28g[0]].append(['28g', rut, alerta_28g[1]])    \n",
    "\n",
    "alertas_d = alertas\n",
    "%store alertas_d"
   ]
  },
  {
   "cell_type": "code",
   "execution_count": null,
   "id": "1dd50e8b-dd94-45a5-ae0a-c308866527c5",
   "metadata": {},
   "outputs": [],
   "source": []
  }
 ],
 "metadata": {
  "kernelspec": {
   "display_name": "Python 3 (ipykernel)",
   "language": "python",
   "name": "python3"
  },
  "language_info": {
   "codemirror_mode": {
    "name": "ipython",
    "version": 3
   },
   "file_extension": ".py",
   "mimetype": "text/x-python",
   "name": "python",
   "nbconvert_exporter": "python",
   "pygments_lexer": "ipython3",
   "version": "3.11.4"
  }
 },
 "nbformat": 4,
 "nbformat_minor": 5
}
