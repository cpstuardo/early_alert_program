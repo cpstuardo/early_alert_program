{
 "cells": [
  {
   "cell_type": "markdown",
   "id": "35c331ef",
   "metadata": {},
   "source": [
    "# Students data generator"
   ]
  },
  {
   "cell_type": "markdown",
   "id": "2c1cb024",
   "metadata": {},
   "source": [
    "### Librerías"
   ]
  },
  {
   "cell_type": "code",
   "execution_count": 15,
   "id": "3c5c2dae",
   "metadata": {},
   "outputs": [],
   "source": [
    "import csv\n",
    "import pandas as pd\n",
    "import numpy as np"
   ]
  },
  {
   "cell_type": "markdown",
   "id": "fd7c0655",
   "metadata": {},
   "source": [
    "### Dataframes"
   ]
  },
  {
   "cell_type": "code",
   "execution_count": 16,
   "id": "ff26ebc1",
   "metadata": {},
   "outputs": [],
   "source": [
    "# General\n",
    "general_nse = pd.read_excel('../../01 Data/02 Dataset_100/nse_admision_civil_construction.xlsx')\n",
    "general_ptj = pd.read_excel('../../01 Data/02 Dataset_100/ptje_admision_civil_construction.xlsx')"
   ]
  },
  {
   "cell_type": "code",
   "execution_count": 17,
   "id": "d25925e4",
   "metadata": {},
   "outputs": [],
   "source": [
    "# Vigentes\n",
    "vig = pd.read_excel('../../01 Data/02 Dataset_100/semester_vig_civil_construction.xlsx').groupby('RUT')\n",
    "vig_estado = pd.read_excel('../../01 Data/02 Dataset_100/general_civil_construction_vig.xlsx')"
   ]
  },
  {
   "cell_type": "code",
   "execution_count": 18,
   "id": "23d0e0ad",
   "metadata": {},
   "outputs": [],
   "source": [
    "# No Vigentes\n",
    "novig = pd.read_excel('../../01 Data/02 Dataset_100/semester_novig_civil_construction.xlsx').groupby('RUT')\n",
    "novig_estado = pd.read_excel('../../01 Data/02 Dataset_100/general_civil_construction_novig.xlsx')"
   ]
  },
  {
   "cell_type": "code",
   "execution_count": 19,
   "id": "0f065c5e",
   "metadata": {},
   "outputs": [],
   "source": [
    "general_nse = general_nse.replace({np.nan: ''})\n",
    "general_ptj = general_ptj.replace({np.nan: ''})\n",
    "vig_estado = vig_estado.replace({np.nan: ''})\n",
    "novig_estado = novig_estado.replace({np.nan: ''})"
   ]
  },
  {
   "cell_type": "markdown",
   "id": "80bcf4ad",
   "metadata": {},
   "source": [
    "### Diccionario de estudiantes información general"
   ]
  },
  {
   "cell_type": "code",
   "execution_count": 20,
   "id": "632d8226",
   "metadata": {},
   "outputs": [],
   "source": [
    "vig_info = {}\n",
    "novig_info = {}\n",
    "\n",
    "# estado vigentes\n",
    "for i in range(len(vig_estado.index)):\n",
    "    if vig_estado['ESCUELA'][i] == '01 - Construcción Civil':\n",
    "        rut = vig_estado['RUT'][i]\n",
    "        vig_info[rut] = {}\n",
    "        vig_info[rut]['SEXO'] = vig_estado['SEXO'][i]\n",
    "        vig_info[rut]['PERIODO ADMISION'] = vig_estado['PERIODO ADMISIÓN'][i]\n",
    "        vig_info[rut]['SITUACION FINAL'] = vig_estado['SITUACIÓN ACADÉMICA'][i]\n",
    "        vig_info[rut]['VIGENCIA'] = \"Vigente\"\n",
    "        \n",
    "# estado no vigentes\n",
    "for i in range(len(novig_estado.index)):\n",
    "    if novig_estado['ESCUELA'][i] == '01 - Construcción Civil':\n",
    "        rut = novig_estado['RUT'][i]\n",
    "        novig_info[rut] = {}\n",
    "        novig_info[rut]['SEXO'] = novig_estado['SEXO'][i]\n",
    "        novig_info[rut]['PERIODO ADMISION'] = novig_estado['PERIODO ADMISIÓN'][i]\n",
    "        novig_info[rut]['SITUACION FINAL'] = novig_estado['SITUACIÓN ACADÉMICA'][i]\n",
    "        novig_info[rut]['VIGENCIA'] = \"No vigente\"\n",
    "\n",
    "# nse admisión\n",
    "for i in range(len(general_nse.index)):\n",
    "    if general_nse['ESCUELA'][i] == '01 - Construcción Civil':\n",
    "        rut = general_nse['RUT'][i]\n",
    "        if rut in vig_info:\n",
    "            info = vig_info\n",
    "        elif rut in novig_info:\n",
    "            info = novig_info\n",
    "        info[rut]['ESTADO CIVIL'] = general_nse['ESTADO CIVIL'][i]\n",
    "        info[rut]['ESTABLECIMIENTO EDUCACIONAL'] = general_nse['NOMBRE DEPENDENCIA EDUCACIONAL'][i]\n",
    "        info[rut]['SISTEMA SALUD'] = general_nse['SISTEMA DE SALUD'][i]\n",
    "        info[rut]['VIVE CON'] = general_nse['VIVE CON'][i]\n",
    "        info[rut]['REGION'] = general_nse['REGIÓN'][i]\n",
    "        \n",
    "# ptj admisión\n",
    "for i in range(len(general_ptj.index)):\n",
    "    if general_ptj['ESCUELA'][i] == '01 - Construcción Civil':\n",
    "        rut = general_ptj['RUT'][i]\n",
    "        if rut in vig_info:\n",
    "            info = vig_info\n",
    "        elif rut in novig_info:\n",
    "            info = novig_info\n",
    "        info[rut]['TIPO ADMISION'] = general_ptj['TIPO ADMISIÓN'][i]\n",
    "        info[rut]['PTJ NEM'] = general_ptj['PUNTAJE NOTA ENSEÑANZA MEDIA'][i]\n",
    "        info[rut]['PTJ RANKING'] = general_ptj['RANKING'][i]\n",
    "        info[rut]['PTJ SELECCION'] = general_ptj['PUNTAJE SELECCIÓN'][i]\n",
    "        info[rut]['PREFERENCIA'] = general_ptj['PREFERENCIA'][i]\n",
    "        info[rut]['PUESTO INGRESO'] = general_ptj['PUESTO'][i]"
   ]
  },
  {
   "cell_type": "markdown",
   "id": "f2d67e75",
   "metadata": {},
   "source": [
    "### Diccionario de estudiantes situación por semestre"
   ]
  },
  {
   "cell_type": "code",
   "execution_count": 21,
   "id": "52883171",
   "metadata": {},
   "outputs": [],
   "source": [
    "def num_sem(periodo_admision, periodo):\n",
    "    año_admision = str(periodo_admision)[:4]\n",
    "    año_periodo = str(periodo)[:4]\n",
    "    sem_admision = str(periodo_admision)[-1]\n",
    "    sem_periodo = str(periodo)[-1]\n",
    "    dif_base = (int(año_periodo) - int(año_admision)) * 2\n",
    "    if sem_admision == sem_periodo:\n",
    "        dif_base += 1\n",
    "    elif (sem_admision == '0') & (sem_periodo == '2'):\n",
    "        dif_base += 2\n",
    "    return dif_base   "
   ]
  },
  {
   "cell_type": "code",
   "execution_count": 22,
   "id": "665fd4cf",
   "metadata": {},
   "outputs": [],
   "source": [
    "estudiantes = {}\n",
    "\n",
    "# Vigentes\n",
    "for estudiante in vig:\n",
    "    rut = estudiante[0]\n",
    "    estudiantes[rut] = {}\n",
    "    info = estudiante[1]\n",
    "    for i in info.index: #por semestre del estudiante\n",
    "        num_semestre = num_sem(info['PERIODO ADMISIÓN'][i], info['PERIODO ACADÉMICO'][i])\n",
    "        estudiantes[rut][num_semestre] = {}\n",
    "        estudiantes[rut][num_semestre]['PERIODO ACADEMICO'] = info['PERIODO ACADÉMICO'][i]\n",
    "        estudiantes[rut][num_semestre]['SITUACION ACADEMICA'] = info['SITUACIÓN ACADÉMICA POR SEM'][i]\n",
    "        estudiantes[rut][num_semestre]['PPS'] = info['PPS'][i]\n",
    "        estudiantes[rut][num_semestre]['PPA'] = info['PPA'][i]\n",
    "        estudiantes[rut][num_semestre]['CREDITOS INSCRITOS'] = info['CRED INSCR PER'][i]\n",
    "        estudiantes[rut][num_semestre]['CREDITOS APROBADOS'] = info['CRED APROB PER'][i]\n",
    "        estudiantes[rut][num_semestre]['CREDITOS REPROBADOS'] = estudiante[1]['CRED REPRO PER'][i]\n",
    "        estudiantes[rut][num_semestre]['CREDITOS INSCRITOS ACUMULADOS'] = info['CRED INSCR ACUM'][i]\n",
    "        estudiantes[rut][num_semestre]['CREDITOS APROBADOS ACUMULADOS'] = info['CRED APROB ACUM'][i]\n",
    "        estudiantes[rut][num_semestre]['CREDITOS REPROBADOS ACUMULADOS'] = info['CRED REPRO ACUM'][i] \n",
    "        \n",
    "# No Vigentes\n",
    "for estudiante in novig:\n",
    "    rut = estudiante[0]\n",
    "    estudiantes[rut] = {}\n",
    "    info = estudiante[1]\n",
    "    for i in info.index: #por semestre del estudiante\n",
    "        num_semestre = num_sem(info['PERIODO ADMISIÓN'][i], info['PERIODO ACADÉMICO'][i])\n",
    "        estudiantes[rut][num_semestre] = {}\n",
    "        estudiantes[rut][num_semestre]['PERIODO ACADEMICO'] = info['PERIODO ACADÉMICO'][i]\n",
    "        estudiantes[rut][num_semestre]['SITUACION ACADEMICA'] = info['SITUACIÓN ACADÉMICA POR SEM'][i]\n",
    "        estudiantes[rut][num_semestre]['PPS'] = info['PPS'][i]\n",
    "        estudiantes[rut][num_semestre]['PPA'] = info['PPA'][i]\n",
    "        estudiantes[rut][num_semestre]['CREDITOS INSCRITOS'] = info['CRED INSCR PER'][i]\n",
    "        estudiantes[rut][num_semestre]['CREDITOS APROBADOS'] = info['CRED APROB PER'][i]\n",
    "        estudiantes[rut][num_semestre]['CREDITOS REPROBADOS'] = estudiante[1]['CRED REPRO PER'][i]\n",
    "        estudiantes[rut][num_semestre]['CREDITOS INSCRITOS ACUMULADOS'] = info['CRED INSCR ACUM'][i]\n",
    "        estudiantes[rut][num_semestre]['CREDITOS APROBADOS ACUMULADOS'] = info['CRED APROB ACUM'][i]\n",
    "        estudiantes[rut][num_semestre]['CREDITOS REPROBADOS ACUMULADOS'] = info['CRED REPRO ACUM'][i]  \n",
    "        \n",
    "for rut in estudiantes.keys():\n",
    "    num_semestre_cursado = 0\n",
    "    for i in range(30):\n",
    "        if i in estudiantes[rut].keys():\n",
    "            if estudiantes[rut][i]['SITUACION ACADEMICA'] == 'INPROGRESS - En progreso':\n",
    "                num_semestre_cursado += 1\n",
    "                estudiantes[rut][i]['NUM SEM CURSADO'] = num_semestre_cursado\n",
    "            else:\n",
    "                estudiantes[rut][i]['NUM SEM CURSADO'] = 0 # si suspendió/anuló no tiene número de semestre cursado  \n",
    "                "
   ]
  },
  {
   "cell_type": "markdown",
   "id": "4ed474f0",
   "metadata": {},
   "source": [
    "### Agregar alertas al diccionario"
   ]
  },
  {
   "cell_type": "code",
   "execution_count": 23,
   "id": "083cf701",
   "metadata": {},
   "outputs": [],
   "source": [
    "%store -r alertas_cc"
   ]
  },
  {
   "cell_type": "code",
   "execution_count": 24,
   "id": "9111a78b",
   "metadata": {},
   "outputs": [],
   "source": [
    "for periodo in alertas_cc.keys():\n",
    "    for alerta in alertas_cc[periodo]:\n",
    "        tipo_alerta = alerta[0]\n",
    "        rut = alerta[1]\n",
    "        sem_alerta = alerta[2]\n",
    "        if rut in estudiantes.keys():\n",
    "            for sem in estudiantes[rut].keys():\n",
    "                if sem == sem_alerta:\n",
    "                    if not ('ALERTA' in estudiantes[rut][sem].keys()):\n",
    "                        estudiantes[rut][sem]['ALERTA'] = tipo_alerta\n",
    "                    else:\n",
    "                        estudiantes[rut][sem]['ALERTA'] += ','+ tipo_alerta"
   ]
  },
  {
   "cell_type": "markdown",
   "id": "c176653c",
   "metadata": {},
   "source": [
    "### Almacenar variables"
   ]
  },
  {
   "cell_type": "code",
   "execution_count": 25,
   "id": "2e14c9b5",
   "metadata": {},
   "outputs": [
    {
     "name": "stdout",
     "output_type": "stream",
     "text": [
      "Stored 'estudiantes_cc' (dict)\n",
      "Stored 'novig_info_cc' (dict)\n",
      "Stored 'vig_info_cc' (dict)\n"
     ]
    }
   ],
   "source": [
    "estudiantes_cc = estudiantes\n",
    "novig_info_cc = novig_info\n",
    "vig_info_cc = vig_info\n",
    "\n",
    "%store estudiantes_cc\n",
    "%store novig_info_cc\n",
    "%store vig_info_cc"
   ]
  }
 ],
 "metadata": {
  "kernelspec": {
   "display_name": "Python 3 (ipykernel)",
   "language": "python",
   "name": "python3"
  },
  "language_info": {
   "codemirror_mode": {
    "name": "ipython",
    "version": 3
   },
   "file_extension": ".py",
   "mimetype": "text/x-python",
   "name": "python",
   "nbconvert_exporter": "python",
   "pygments_lexer": "ipython3",
   "version": "3.11.4"
  }
 },
 "nbformat": 4,
 "nbformat_minor": 5
}
