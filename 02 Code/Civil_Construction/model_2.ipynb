{
 "cells": [
  {
   "cell_type": "markdown",
   "id": "2c1cb024",
   "metadata": {},
   "source": [
    "### Librerías"
   ]
  },
  {
   "cell_type": "code",
   "execution_count": 31,
   "id": "3c5c2dae",
   "metadata": {},
   "outputs": [],
   "source": [
    "import csv\n",
    "import pandas as pd\n",
    "import numpy as np"
   ]
  },
  {
   "cell_type": "markdown",
   "id": "0ad3bb3c",
   "metadata": {},
   "source": [
    "### Obtener datos"
   ]
  },
  {
   "cell_type": "code",
   "execution_count": 32,
   "id": "1b39157f",
   "metadata": {},
   "outputs": [],
   "source": [
    "%store -r estudiantes_cc\n",
    "%store -r vig_info_cc\n",
    "%store -r novig_info_cc\n",
    "\n",
    "estudiantes = estudiantes_cc\n",
    "vig_info = vig_info_cc\n",
    "novig_info = novig_info_cc"
   ]
  },
  {
   "cell_type": "markdown",
   "id": "37552e22",
   "metadata": {},
   "source": [
    "### Crear log de eventos"
   ]
  },
  {
   "cell_type": "markdown",
   "id": "c49a37b8",
   "metadata": {},
   "source": [
    "1er semestre:\n",
    "* 01/01 Situación semestral (Suspensión, PPA, PPS, etc)\n",
    "* 10/01 Alerta\n",
    "* 20/01 Revisión Permanencia\n",
    "* 31/01 Situación Final\n",
    "\n",
    "2do semestre:\n",
    "* 01/08 Situación semestral\n",
    "* 10/08 Alerta\n",
    "* 20/08 Revisión Permanencia\n",
    "* 31/08 Situación Final"
   ]
  },
  {
   "cell_type": "code",
   "execution_count": 33,
   "id": "1706992f",
   "metadata": {},
   "outputs": [],
   "source": [
    "def creador_timestamp(periodo_int, tipo):\n",
    "    periodo = str(periodo_int)\n",
    "    timestamp = 0\n",
    "    if periodo[-1] == '0': # Primer semestre\n",
    "        if tipo == 'situacion':\n",
    "            timestamp = '01-'+periodo[0:4]\n",
    "        elif tipo == 'alerta':\n",
    "            timestamp = '01-'+periodo[0:4]\n",
    "        elif tipo == 'revision':\n",
    "            timestamp = '02-'+periodo[0:4]\n",
    "        elif tipo == 'fin':\n",
    "            timestamp = '07-'+periodo[0:4]\n",
    "    elif periodo[-1] == '2': # Segundo semestre\n",
    "        if tipo == 'situacion':\n",
    "            timestamp = '08-'+periodo[0:4]\n",
    "        elif tipo == 'alerta':\n",
    "            timestamp = '08-'+periodo[0:4]\n",
    "        elif tipo == 'revision':\n",
    "            timestamp = '11-'+periodo[0:4]\n",
    "        elif tipo == 'fin':\n",
    "            timestamp = '12-'+periodo[0:4]\n",
    "    return timestamp"
   ]
  },
  {
   "cell_type": "code",
   "execution_count": 34,
   "id": "5f451998",
   "metadata": {},
   "outputs": [],
   "source": [
    "sit_finales = {\n",
    "    'INPROGRESS - En progreso': 'Taking courses',\n",
    "    'ANULESTUDIOS - Anulación de estudios': 'Taking courses',\n",
    "    'SUSPESTUDIOS - Suspensión de estudios': 'Taking courses',\n",
    "    'SUSPESTCOMPERMA - Susp. Estudios Com.Permanencia': 'Taking courses',\n",
    "    'SUSPSALUD - Suspensión por salud': 'Taking courses',\n",
    "    'SUSPFUERZMAYOR - Suspensión por fuerza mayor': 'Taking courses',\n",
    "    'SUSPSANCACADEM - Suspensión sanción académ.': 'Taking courses',\n",
    "    'RENUNCIADO - Renunciado': 'Dropout',\n",
    "    'RENUNCIACOMPERM - Renuncia Com. Permanencia': 'Dropout',\n",
    "    'ABANDONA - Abandono de estudios': 'Dropout',\n",
    "    'ELIMINADO - Eliminado': 'Expelled',\n",
    "    'NOVIGCOMPERMA - No Vigente Com. Permanencia': 'Expelled',\n",
    "    'EGRESADO - Egresado': 'Finalizado',\n",
    "    'VIGENTEGRESADO - Vigente egresado': 'Graduated',\n",
    "    'AVT - Alumno en Vía de Titulación': 'Graduated'\n",
    "}"
   ]
  },
  {
   "cell_type": "code",
   "execution_count": 35,
   "id": "7d7e897d",
   "metadata": {},
   "outputs": [],
   "source": [
    "sit_sem_activa = [\n",
    "    'INPROGRESS - En progreso',\n",
    "    'IACAD - Intercambio Académico',\n",
    "    'INPROGRESS - En progreso (Reintegro)', \n",
    "]\n",
    "\n",
    "sit_sem_susp = [\n",
    "    'SUSPESTUDIOS - Suspensión de estudios',\n",
    "    'SUSPESTUDIOS - Suspensión de estudios (Reintegro)',\n",
    "    'SUSPSALUD - Suspensión por salud',\n",
    "    'SUSPSALUD - Suspensión por salud (Reintegro)',\n",
    "    'SUSPSANCACADEM - Suspensión sanción académ.',\n",
    "    'SUSPESTCOMPERMA - Susp. Estudios Com.Permanencia',\n",
    "    'SUSPFUERZMAYOR - Suspensión por fuerza mayor',\n",
    "    'ANULESTUDIOS - Anulación de estudios'\n",
    "]"
   ]
  },
  {
   "cell_type": "code",
   "execution_count": 36,
   "id": "ffd1ce32",
   "metadata": {},
   "outputs": [],
   "source": [
    "reales = [201920, 201922, 202020, 202022, 202120, 202122]\n",
    "def es_real(periodo):\n",
    "    if periodo in reales:\n",
    "        return True\n",
    "    else:\n",
    "        return False"
   ]
  },
  {
   "cell_type": "code",
   "execution_count": 37,
   "id": "3a1ab62b",
   "metadata": {},
   "outputs": [],
   "source": [
    "def agregar_info(evento, info):\n",
    "    evento.append(info[rut]['PERIODO ADMISION'])\n",
    "    evento.append(info[rut]['TIPO ADMISION'])\n",
    "    evento.append(info[rut]['SEXO'])\n",
    "    evento.append(info[rut]['VIGENCIA'])\n",
    "    evento.append(info[rut]['REGION'])\n",
    "    evento.append(info[rut]['ESTABLECIMIENTO EDUCACIONAL'])\n",
    "    evento.append(info[rut]['PTJ NEM'])\n",
    "    evento.append(info[rut]['PTJ RANKING'])\n",
    "    evento.append(info[rut]['PTJ SELECCION'])\n",
    "    evento.append(info[rut]['PREFERENCIA'])\n",
    "    evento.append(info[rut]['PUESTO INGRESO'])\n",
    "    evento.append(info[rut]['ESTADO CIVIL'])\n",
    "    evento.append(info[rut]['VIVE CON'])\n",
    "    evento.append(info[rut]['SISTEMA SALUD'])"
   ]
  },
  {
   "cell_type": "code",
   "execution_count": 38,
   "id": "1105090f",
   "metadata": {},
   "outputs": [],
   "source": [
    "def sem_ant_cursado(rut, sem):\n",
    "    sem -= 1\n",
    "    while sem > 0:\n",
    "        if estudiantes[rut][sem]['SITUACION ACADEMICA'] == 'INPROGRESS - En progreso':\n",
    "             if estudiantes[rut][sem]['CREDITOS INSCRITOS'] > 0:\n",
    "                return sem\n",
    "        sem -= 1\n",
    "    return 0"
   ]
  },
  {
   "cell_type": "code",
   "execution_count": 39,
   "id": "9ee91f12",
   "metadata": {},
   "outputs": [],
   "source": [
    "log = [['Rut',\n",
    "        'Actividad',\n",
    "        'Timestamp',\n",
    "        'Tipo alerta',\n",
    "        'Tipo suspensión',\n",
    "        'PPA',\n",
    "        'PPS',\n",
    "        'Periodo admisión',\n",
    "        'Tipo admisión',\n",
    "        'Sexo',\n",
    "        'Vigencia',\n",
    "        'Región',\n",
    "        'Establecimiento educacional',\n",
    "        'Ptj NEM',\n",
    "        'Ptj Ranking',\n",
    "        'Ptj Selección',\n",
    "        'Preferencia',\n",
    "        'Puesto ingreso',\n",
    "        'Estado Civil',\n",
    "        'Vive con',\n",
    "        'Sistema de Salud'\n",
    "]]\n",
    "\n",
    "situ = []\n",
    "\n",
    "for rut in estudiantes.keys():\n",
    "    num_alerta = 1\n",
    "    PPS_4 = 0\n",
    "    # Información del estudiante\n",
    "    if rut in vig_info.keys():\n",
    "            info = vig_info\n",
    "    elif rut in novig_info.keys():\n",
    "        info = novig_info\n",
    "\n",
    "        \n",
    "    for semestre in range(1,30):\n",
    "        if semestre in estudiantes[rut].keys():\n",
    "            # Alerta / Sin Alerta\n",
    "            if estudiantes[rut][semestre]['PPS'] > 0 and estudiantes[rut][semestre]['SITUACION ACADEMICA'] in sit_sem_activa:\n",
    "                evento_alerta = []\n",
    "                evento_alerta.append(rut) # Rut\n",
    "                if 'ALERTA' in estudiantes[rut][semestre].keys(): \n",
    "                    evento_alerta.append('Alert') # Actividad\n",
    "                    evento_alerta.append(creador_timestamp(estudiantes[rut][semestre]['PERIODO ACADEMICO'], 'alerta')) # Timestamp\n",
    "                    evento_alerta.append(estudiantes[rut][semestre]['ALERTA']) # Tipo alerta\n",
    "                    evento_alerta.append('') # Tipo suspensión\n",
    "                    evento_alerta.append(estudiantes[rut][semestre]['PPA'])\n",
    "                    evento_alerta.append(estudiantes[rut][semestre]['PPS'])\n",
    "                else:\n",
    "                    evento_alerta.append('No Alert') # Actividad\n",
    "                    evento_alerta.append(creador_timestamp(estudiantes[rut][semestre]['PERIODO ACADEMICO'], 'alerta')) # Timestamp\n",
    "                    evento_alerta.append('') # Tipo alerta\n",
    "                    evento_alerta.append('') # Tipo suspensión\n",
    "                    evento_alerta.append(estudiantes[rut][semestre]['PPA'])\n",
    "                    evento_alerta.append(estudiantes[rut][semestre]['PPS'])\n",
    "                agregar_info(evento_alerta, info)\n",
    "                log.append(evento_alerta)\n",
    "              \n",
    "\n",
    "            # Suspensión\n",
    "            elif estudiantes[rut][semestre]['SITUACION ACADEMICA'] in sit_sem_susp:\n",
    "                evento_susp = []\n",
    "                evento_susp.append(rut) # Rut     \n",
    "                evento_susp.append('Suspensión') # Actividad\n",
    "                evento_susp.append(creador_timestamp(estudiantes[rut][semestre]['PERIODO ACADEMICO'], 'alerta')) # Timestamp\n",
    "                evento_susp.append('') # Tipo alerta\n",
    "                sem_ant = sem_ant_cursado(rut,semestre) \n",
    "                if sem_ant:\n",
    "                    if 'ALERTA' in estudiantes[rut][sem_ant].keys(): # tipo suspensión\n",
    "                        evento_susp.append('After Alert')\n",
    "                    else:\n",
    "                        evento_susp.append('') \n",
    "                else:\n",
    "                    evento_susp.append('') \n",
    "                evento_susp.append('') # PPA\n",
    "                evento_susp.append('') # PPS\n",
    "                agregar_info(evento_susp, info)\n",
    "                log.append(evento_susp)\n",
    "\n",
    "    # Situación final\n",
    "    evento_sit_final = []\n",
    "    evento_sit_final.append(rut)\n",
    "    evento_sit_final.append(sit_finales[info[rut]['SITUACION FINAL']])\n",
    "    ultimo_sem = estudiantes[rut][max(estudiantes[rut].keys())]['PERIODO ACADEMICO']\n",
    "    evento_sit_final.append(creador_timestamp(ultimo_sem, 'fin'))\n",
    "    evento_sit_final.append('') # Tipo alerta\n",
    "    evento_sit_final.append('') # Tipo suspensión\n",
    "    evento_sit_final.append('') # PPA\n",
    "    evento_sit_final.append('') # PPS\n",
    "    agregar_info(evento_sit_final, info)\n",
    "    log.append(evento_sit_final)"
   ]
  },
  {
   "cell_type": "markdown",
   "id": "70e119d1",
   "metadata": {},
   "source": [
    "### Crear excel"
   ]
  },
  {
   "cell_type": "code",
   "execution_count": 40,
   "id": "694470f8",
   "metadata": {},
   "outputs": [],
   "source": [
    "myFile = open('../../03 Logs/02 Dataset_100/model2_civil_construction.csv', 'w', newline=\"\")\n",
    "with myFile:\n",
    "    writer = csv.writer(myFile)\n",
    "    writer.writerows(log)"
   ]
  }
 ],
 "metadata": {
  "kernelspec": {
   "display_name": "Python 3 (ipykernel)",
   "language": "python",
   "name": "python3"
  },
  "language_info": {
   "codemirror_mode": {
    "name": "ipython",
    "version": 3
   },
   "file_extension": ".py",
   "mimetype": "text/x-python",
   "name": "python",
   "nbconvert_exporter": "python",
   "pygments_lexer": "ipython3",
   "version": "3.11.4"
  }
 },
 "nbformat": 4,
 "nbformat_minor": 5
}
